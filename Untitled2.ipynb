{
 "cells": [
  {
   "cell_type": "markdown",
   "id": "c748740c",
   "metadata": {},
   "source": [
    "# Rama"
   ]
  },
  {
   "cell_type": "code",
   "execution_count": null,
   "id": "428974d8",
   "metadata": {},
   "outputs": [],
   "source": [
    "friends_problemset_50_df.to_csv('friends_problemset_50_df_without_source_code.csv', index=False)"
   ]
  },
  {
   "cell_type": "code",
   "execution_count": null,
   "id": "87b03b68",
   "metadata": {},
   "outputs": [],
   "source": [
    "friends_problemset_50_df = pd.read_csv('friends_problemset_50_df_without_source_code.csv')\n",
    "friends_problemset_50_df"
   ]
  },
  {
   "cell_type": "code",
   "execution_count": null,
   "id": "168ac9c5",
   "metadata": {},
   "outputs": [],
   "source": [
    "# Split the DataFrame into four equal-sized DataFrames\n",
    "split_data = np.array_split(friends_problemset_50_df, 4)\n",
    "\n",
    "# Access the individual DataFrames\n",
    "friends_problemset_50_df1, friends_problemset_50_df2, friends_problemset_50_df3, friends_problemset_50_df4 = split_data[0], split_data[1], split_data[2], split_data[3]\n",
    "\n",
    "# Check the sizes of the DataFrames\n",
    "print(len(friends_problemset_50_df1)) \n",
    "print(len(friends_problemset_50_df2)) \n",
    "print(len(friends_problemset_50_df3))  \n",
    "print(len(friends_problemset_50_df4))  "
   ]
  },
  {
   "cell_type": "code",
   "execution_count": null,
   "id": "475abd3a",
   "metadata": {},
   "outputs": [],
   "source": [
    "source_code = []\n",
    "\n",
    "if os.path.exists('failed_submission.csv'):\n",
    "    failed_submission = pd.read_csv(\"failed_submission.csv\")\n",
    "    \n",
    "    # Find the index where starting_point['#'] is equal to the specific value\n",
    "    start_index = friends_problemset_50_df2[friends_problemset_df1['#'] == failed_submission['#'][0]].index[0]\n",
    "    \n",
    "    # Slice the DataFrame to include rows starting from the identified index\n",
    "    starting_point = friends_problemset_50_df2.loc[start_index:]\n",
    "    os.remove('failed_submission.csv')\n",
    "\n",
    "else:\n",
    "    starting_point = friends_problemset_50_df2\n",
    "    \n",
    "\n",
    "# Iterate over the values in 'Number' and '#' columns\n",
    "for num, submission in zip(starting_point['Number'], starting_point['#']):\n",
    "        # The base URL for the submission page\n",
    "        submission_url = f'https://codeforces.com/contest/{num}/submission/{submission}'\n",
    "        print(submission_url)\n",
    "        \n",
    "#         gateway = ApiGateway(\"https://codeforces.com/\")\n",
    "#         gateway.start()\n",
    "\n",
    "#         session.mount(\"https://codeforces.com/\", gateway)\n",
    "\n",
    "#         # Only run this line if you are no longer going to run the script, as it takes longer to boot up again next time.\n",
    "#         gateway.shutdown() \n",
    "\n",
    "        # Send a GET request to the URL\n",
    "        response = requests.get(submission_url)\n",
    "\n",
    "        # Check if the request was successful\n",
    "        if response.status_code == 200:\n",
    "            # Parse the HTML content using BeautifulSoup\n",
    "            soup = BeautifulSoup(response.content, 'html.parser')\n",
    "\n",
    "            # Find the element containing the source code\n",
    "            source_elem = soup.select('#program-source-text')\n",
    "\n",
    "            # Check if the element was found\n",
    "            if source_elem:\n",
    "                # Convert the HTML source code to plain text\n",
    "                source = html.unescape(source_elem[0].decode_contents())\n",
    "\n",
    "                # Path to the successful_submission file\n",
    "                successful_submissions = \"successful_submissions.csv\"\n",
    "\n",
    "                # Open the file in append mode and write the data\n",
    "                with open(successful_submissions, \"a\", newline=\"\") as file:\n",
    "                    writer = csv.DictWriter(file, fieldnames=[\"#\", \"Number\", 'Source_code'])\n",
    "\n",
    "                    # Write the header row if the file is empty\n",
    "                    if file.tell() == 0:\n",
    "                        writer.writeheader()\n",
    "\n",
    "                    # Append the data rows\n",
    "                    writer.writerows([{\"#\": submission, \"Number\": num, \"Source_code\":source}])\n",
    "            else:\n",
    "                print(f'Failed to find source code for submission {submission} in contest {num}')\n",
    "                                                \n",
    "                # Path to the failed_submission.csv file\n",
    "                failed_submission = \"failed_submission.csv\"\n",
    "\n",
    "                # Open the file in append mode and write the data\n",
    "                with open(failed_submission, \"w\", newline=\"\") as file:\n",
    "                    writer = csv.DictWriter(file, fieldnames=[\"#\", \"Number\"])\n",
    "\n",
    "                    # Write the header row if the file is empty\n",
    "                    if file.tell() == 0:\n",
    "                        writer.writeheader()\n",
    "\n",
    "                    # Append the data rows\n",
    "                    writer.writerows([{\"#\": submission, \"Number\": num}])\n",
    "                    \n",
    "                winsound.PlaySound('frog.wav', winsound.SND_FILENAME)\n",
    "                break\n",
    "                \n",
    "        else:\n",
    "            print(f'Failed to retrieve submission {submission} in contest {num}')\n",
    "        time.sleep(2)\n",
    "        \n",
    "\n",
    "# Add the list of source codes to the DataFrame\n",
    "friends_problemset_df['Source Code'] = source_code"
   ]
  }
 ],
 "metadata": {
  "kernelspec": {
   "display_name": "Python 3 (ipykernel)",
   "language": "python",
   "name": "python3"
  },
  "language_info": {
   "codemirror_mode": {
    "name": "ipython",
    "version": 3
   },
   "file_extension": ".py",
   "mimetype": "text/x-python",
   "name": "python",
   "nbconvert_exporter": "python",
   "pygments_lexer": "ipython3",
   "version": "3.10.8"
  }
 },
 "nbformat": 4,
 "nbformat_minor": 5
}
